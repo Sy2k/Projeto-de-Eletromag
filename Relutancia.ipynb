{
 "cells": [
  {
   "cell_type": "code",
   "execution_count": 6,
   "metadata": {},
   "outputs": [],
   "source": [
    "rgm = 771915.51\n",
    "rg1 = 694029.928\n",
    "rg2 = 725939.35"
   ]
  },
  {
   "cell_type": "code",
   "execution_count": 7,
   "metadata": {},
   "outputs": [],
   "source": [
    "rf2_min = 84100.07\n",
    "rf1_min = 80611.58\n",
    "rf3_min = 22192.57\n",
    "rfe_min = 31721.9"
   ]
  },
  {
   "cell_type": "code",
   "execution_count": 8,
   "metadata": {},
   "outputs": [],
   "source": [
    "rf2_max = 4215.9\n",
    "rf1_max = 4030.58\n",
    "rf3_max = 1109.63\n",
    "rfe_max = 1586.095"
   ]
  },
  {
   "cell_type": "code",
   "execution_count": 16,
   "metadata": {},
   "outputs": [
    {
     "name": "stdout",
     "output_type": "stream",
     "text": [
      "REQ1_MINIMO:  841761.32\n",
      "REQ2_MINIMO:  806363.4079999999\n",
      "REQ3_MINIMO:  794108.08\n",
      "REQ FINAL:  271194.14217123104\n"
     ]
    }
   ],
   "source": [
    "req1_min = rf2_min + rg2 + rfe_min\n",
    "req2_min = rf1_min + rg1 + rfe_min\n",
    "req3_min = rgm + rf3_min\n",
    "req_final_min = 1/(1/req1_min + 1/req2_min + 1/req3_min)\n",
    "print(\"REQ1_MINIMO: \",req1_min)\n",
    "print(\"REQ2_MINIMO: \",req2_min)\n",
    "print(\"REQ3_MINIMO: \",req3_min)\n",
    "print(\"REQ FINAL: \",req_final_min)\n"
   ]
  },
  {
   "cell_type": "code",
   "execution_count": 15,
   "metadata": {},
   "outputs": [
    {
     "name": "stdout",
     "output_type": "stream",
     "text": [
      "REQ1_MAX:  731741.345\n",
      "REQ2_MAX:  699646.6029999999\n",
      "REQ3_MAX:  773025.14\n",
      "REQ FINAL:  248334.59279332164\n"
     ]
    }
   ],
   "source": [
    "req1_max = rf2_max + rg2 + rfe_max\n",
    "c = rf1_max + rg1 + rfe_max\n",
    "req3_max = rgm + rf3_max\n",
    "req_final_max = 1/(1/req1_max + 1/req1_max + 1/req3_max)\n",
    "\n",
    "print(\"REQ1_MAX: \",req1_max)\n",
    "print(\"REQ2_MAX: \",req2_max)\n",
    "print(\"REQ3_MAX: \",req3_max)\n",
    "print(\"REQ FINAL: \",req_final_max)"
   ]
  },
  {
   "cell_type": "code",
   "execution_count": null,
   "metadata": {},
   "outputs": [],
   "source": []
  }
 ],
 "metadata": {
  "kernelspec": {
   "display_name": "Python 3",
   "language": "python",
   "name": "python3"
  },
  "language_info": {
   "codemirror_mode": {
    "name": "ipython",
    "version": 3
   },
   "file_extension": ".py",
   "mimetype": "text/x-python",
   "name": "python",
   "nbconvert_exporter": "python",
   "pygments_lexer": "ipython3",
   "version": "3.8.3"
  }
 },
 "nbformat": 4,
 "nbformat_minor": 4
}
